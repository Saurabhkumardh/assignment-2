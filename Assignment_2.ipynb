{
  "nbformat": 4,
  "nbformat_minor": 0,
  "metadata": {
    "colab": {
      "provenance": []
    },
    "kernelspec": {
      "name": "python3",
      "display_name": "Python 3"
    },
    "language_info": {
      "name": "python"
    }
  },
  "cells": [
    {
      "cell_type": "markdown",
      "source": [],
      "metadata": {
        "id": "nP0ln4diRUQg"
      }
    },
    {
      "cell_type": "markdown",
      "source": [
        "Question 1\n",
        "single line #\n"
      ],
      "metadata": {
        "id": "QLKcqD5lRWSc"
      }
    },
    {
      "cell_type": "code",
      "source": [
        "# my name is saurabh"
      ],
      "metadata": {
        "id": "MZZAjn1zRcRt"
      },
      "execution_count": null,
      "outputs": []
    },
    {
      "cell_type": "markdown",
      "source": [
        "multi line\n"
      ],
      "metadata": {
        "id": "Nmi4YL6TRh-f"
      }
    },
    {
      "cell_type": "code",
      "source": [
        "'''my name is saurabh\n",
        "i am uttar pardesh'''"
      ],
      "metadata": {
        "colab": {
          "base_uri": "https://localhost:8080/",
          "height": 35
        },
        "id": "aALakIfPRkaP",
        "outputId": "74008134-f899-464c-c82e-99797069f19f"
      },
      "execution_count": 1,
      "outputs": [
        {
          "output_type": "execute_result",
          "data": {
            "text/plain": [
              "'my name is saurabh\\ni am uttar pardesh'"
            ],
            "application/vnd.google.colaboratory.intrinsic+json": {
              "type": "string"
            }
          },
          "metadata": {},
          "execution_count": 1
        }
      ]
    },
    {
      "cell_type": "markdown",
      "source": [
        "Question 2\n"
      ],
      "metadata": {
        "id": "1mE1iVdWR2jW"
      }
    },
    {
      "cell_type": "code",
      "source": [
        "# Variables can hold different types of data\n",
        "name = \"saurabh\"     # String\n",
        "age = 30           # Integer\n",
        "height = 5.6       # Float\n",
        "is_student = True  # Boolean"
      ],
      "metadata": {
        "id": "63F7w6kzSXwf"
      },
      "execution_count": null,
      "outputs": []
    },
    {
      "cell_type": "markdown",
      "source": [
        "Question 3\n"
      ],
      "metadata": {
        "id": "cQyUSfGPShAW"
      }
    },
    {
      "cell_type": "code",
      "source": [
        "age=30\n",
        "a=str(age)\n",
        "a"
      ],
      "metadata": {
        "colab": {
          "base_uri": "https://localhost:8080/",
          "height": 35
        },
        "id": "8BdaJ2OySjcP",
        "outputId": "a05dd14e-1a9c-4a33-8f7f-f8e5f14a6485"
      },
      "execution_count": 3,
      "outputs": [
        {
          "output_type": "execute_result",
          "data": {
            "text/plain": [
              "'30'"
            ],
            "application/vnd.google.colaboratory.intrinsic+json": {
              "type": "string"
            }
          },
          "metadata": {},
          "execution_count": 3
        }
      ]
    },
    {
      "cell_type": "markdown",
      "source": [
        "Question 4\n"
      ],
      "metadata": {
        "id": "x1dVW5b3TGql"
      }
    },
    {
      "cell_type": "code",
      "source": [
        "'''\n",
        "step 1=open a code editor\n",
        "step 2=write some code\n",
        "step 3=save the file with py extension like hello.py\n",
        "step 4= open cli(command line interface)\n",
        "step 5=open location of file\n",
        "step 6= type python hello.py\n",
        "\n",
        "\n",
        "'''"
      ],
      "metadata": {
        "id": "pu3CD6tYTJg-"
      },
      "execution_count": null,
      "outputs": []
    },
    {
      "cell_type": "markdown",
      "source": [
        "Question 5\n"
      ],
      "metadata": {
        "id": "kuofmBEmUdB2"
      }
    },
    {
      "cell_type": "code",
      "source": [
        "my_list = [1, 2, 3, 4, 5]\n",
        "my_list[1:3]"
      ],
      "metadata": {
        "colab": {
          "base_uri": "https://localhost:8080/"
        },
        "id": "Ixzc2gaRUhoc",
        "outputId": "850a7ec7-529a-4879-d503-da52401ebff7"
      },
      "execution_count": 4,
      "outputs": [
        {
          "output_type": "execute_result",
          "data": {
            "text/plain": [
              "[2, 3]"
            ]
          },
          "metadata": {},
          "execution_count": 4
        }
      ]
    },
    {
      "cell_type": "markdown",
      "source": [
        "Question 6"
      ],
      "metadata": {
        "id": "AAcEiYybUxfl"
      }
    },
    {
      "cell_type": "code",
      "source": [
        "a=5+6j\n",
        "print(a.real)\n",
        "print(a.imag)"
      ],
      "metadata": {
        "colab": {
          "base_uri": "https://localhost:8080/"
        },
        "id": "g6CBHzD5U0Fx",
        "outputId": "97ec3b36-e10f-4822-ccdd-62c46f33d2b4"
      },
      "execution_count": 8,
      "outputs": [
        {
          "output_type": "stream",
          "name": "stdout",
          "text": [
            "5.0\n",
            "6.0\n"
          ]
        }
      ]
    },
    {
      "cell_type": "markdown",
      "source": [
        "Question 7"
      ],
      "metadata": {
        "id": "KGJZ6n-8VR_J"
      }
    },
    {
      "cell_type": "code",
      "source": [
        "age = 25"
      ],
      "metadata": {
        "id": "xfLWYMSkVU8d"
      },
      "execution_count": 13,
      "outputs": []
    },
    {
      "cell_type": "markdown",
      "source": [
        "Question 8\n"
      ],
      "metadata": {
        "id": "bi9jSge8Vq32"
      }
    },
    {
      "cell_type": "code",
      "source": [
        "price=9.99\n",
        "type(price)"
      ],
      "metadata": {
        "colab": {
          "base_uri": "https://localhost:8080/"
        },
        "id": "LSkTE3N_VtgA",
        "outputId": "533be834-ff0c-4765-b0f3-5beacb6104da"
      },
      "execution_count": 9,
      "outputs": [
        {
          "output_type": "execute_result",
          "data": {
            "text/plain": [
              "float"
            ]
          },
          "metadata": {},
          "execution_count": 9
        }
      ]
    },
    {
      "cell_type": "markdown",
      "source": [
        "Question 9"
      ],
      "metadata": {
        "id": "BtsEhW1MV2M7"
      }
    },
    {
      "cell_type": "code",
      "source": [
        "name=\"saurabh kumar\"\n",
        "print(name)"
      ],
      "metadata": {
        "colab": {
          "base_uri": "https://localhost:8080/"
        },
        "id": "kR6jx3ueV4hr",
        "outputId": "a3d6c92b-15f0-4f67-fa78-75ac83aedb7d"
      },
      "execution_count": 10,
      "outputs": [
        {
          "output_type": "stream",
          "name": "stdout",
          "text": [
            "saurabh kumar\n"
          ]
        }
      ]
    },
    {
      "cell_type": "markdown",
      "source": [
        "Question 10"
      ],
      "metadata": {
        "id": "f9yJqO8UWSKv"
      }
    },
    {
      "cell_type": "code",
      "source": [
        "s = \"Hello, World!\"\n",
        "substring = s[7:12]\n",
        "print(substring)"
      ],
      "metadata": {
        "colab": {
          "base_uri": "https://localhost:8080/"
        },
        "id": "jBOB5Eu5WiQ7",
        "outputId": "0e47baab-dc74-4a3f-ae42-7391c02627ec"
      },
      "execution_count": 12,
      "outputs": [
        {
          "output_type": "stream",
          "name": "stdout",
          "text": [
            "World\n"
          ]
        }
      ]
    },
    {
      "cell_type": "markdown",
      "source": [
        "Question 11\n"
      ],
      "metadata": {
        "id": "rTvXmNNiWwX5"
      }
    },
    {
      "cell_type": "code",
      "source": [
        "is_student=True\n"
      ],
      "metadata": {
        "id": "9AVkWDQaWzb6"
      },
      "execution_count": null,
      "outputs": []
    }
  ]
}